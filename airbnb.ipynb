{
  "nbformat": 4,
  "nbformat_minor": 0,
  "metadata": {
    "colab": {
      "provenance": [],
      "mount_file_id": "1J4z95WMnLoFnN3wNlA4cistYkz5NK3WS",
      "authorship_tag": "ABX9TyOFMyNkHr1hUfs8k1a1UT0D",
      "include_colab_link": true
    },
    "kernelspec": {
      "name": "python3",
      "display_name": "Python 3"
    },
    "language_info": {
      "name": "python"
    }
  },
  "cells": [
    {
      "cell_type": "markdown",
      "metadata": {
        "id": "view-in-github",
        "colab_type": "text"
      },
      "source": [
        "<a href=\"https://colab.research.google.com/github/zinakhazaee/Visualization/blob/main/airbnb.ipynb\" target=\"_parent\"><img src=\"https://colab.research.google.com/assets/colab-badge.svg\" alt=\"Open In Colab\"/></a>"
      ]
    },
    {
      "cell_type": "code",
      "execution_count": 2,
      "metadata": {
        "id": "TmVtjeD37aEy"
      },
      "outputs": [],
      "source": [
        "import pandas as pd\n",
        "import numpy as np\n",
        "import matplotlib.pyplot as plt\n"
      ]
    },
    {
      "cell_type": "code",
      "source": [
        "df = pd.read_csv('/content/drive/MyDrive/New dataset/medium/listings.csv')"
      ],
      "metadata": {
        "id": "VBljalKq8V0e"
      },
      "execution_count": 5,
      "outputs": []
    },
    {
      "cell_type": "code",
      "source": [
        "df.shape"
      ],
      "metadata": {
        "colab": {
          "base_uri": "https://localhost:8080/"
        },
        "id": "eofn7-wjBuPN",
        "outputId": "6f033024-9cb5-45d0-e985-eaa848009950"
      },
      "execution_count": 6,
      "outputs": [
        {
          "output_type": "execute_result",
          "data": {
            "text/plain": [
              "(12955, 75)"
            ]
          },
          "metadata": {},
          "execution_count": 6
        }
      ]
    },
    {
      "cell_type": "code",
      "source": [
        "df.columns"
      ],
      "metadata": {
        "colab": {
          "base_uri": "https://localhost:8080/"
        },
        "id": "z1wpyRBgCEmt",
        "outputId": "7e087c17-0464-4361-94ad-a8aebd2188bf"
      },
      "execution_count": 7,
      "outputs": [
        {
          "output_type": "execute_result",
          "data": {
            "text/plain": [
              "Index(['id', 'listing_url', 'scrape_id', 'last_scraped', 'source', 'name',\n",
              "       'description', 'neighborhood_overview', 'picture_url', 'host_id',\n",
              "       'host_url', 'host_name', 'host_since', 'host_location', 'host_about',\n",
              "       'host_response_time', 'host_response_rate', 'host_acceptance_rate',\n",
              "       'host_is_superhost', 'host_thumbnail_url', 'host_picture_url',\n",
              "       'host_neighbourhood', 'host_listings_count',\n",
              "       'host_total_listings_count', 'host_verifications',\n",
              "       'host_has_profile_pic', 'host_identity_verified', 'neighbourhood',\n",
              "       'neighbourhood_cleansed', 'neighbourhood_group_cleansed', 'latitude',\n",
              "       'longitude', 'property_type', 'room_type', 'accommodates', 'bathrooms',\n",
              "       'bathrooms_text', 'bedrooms', 'beds', 'amenities', 'price',\n",
              "       'minimum_nights', 'maximum_nights', 'minimum_minimum_nights',\n",
              "       'maximum_minimum_nights', 'minimum_maximum_nights',\n",
              "       'maximum_maximum_nights', 'minimum_nights_avg_ntm',\n",
              "       'maximum_nights_avg_ntm', 'calendar_updated', 'has_availability',\n",
              "       'availability_30', 'availability_60', 'availability_90',\n",
              "       'availability_365', 'calendar_last_scraped', 'number_of_reviews',\n",
              "       'number_of_reviews_ltm', 'number_of_reviews_l30d', 'first_review',\n",
              "       'last_review', 'review_scores_rating', 'review_scores_accuracy',\n",
              "       'review_scores_cleanliness', 'review_scores_checkin',\n",
              "       'review_scores_communication', 'review_scores_location',\n",
              "       'review_scores_value', 'license', 'instant_bookable',\n",
              "       'calculated_host_listings_count',\n",
              "       'calculated_host_listings_count_entire_homes',\n",
              "       'calculated_host_listings_count_private_rooms',\n",
              "       'calculated_host_listings_count_shared_rooms', 'reviews_per_month'],\n",
              "      dtype='object')"
            ]
          },
          "metadata": {},
          "execution_count": 7
        }
      ]
    },
    {
      "cell_type": "code",
      "source": [
        "df.isna().sum()"
      ],
      "metadata": {
        "colab": {
          "base_uri": "https://localhost:8080/"
        },
        "id": "ZtBNNlZTLMrt",
        "outputId": "28928a59-03fb-4717-a8f3-5dfe5d34af9e"
      },
      "execution_count": 8,
      "outputs": [
        {
          "output_type": "execute_result",
          "data": {
            "text/plain": [
              "id                                                 0\n",
              "listing_url                                        0\n",
              "scrape_id                                          0\n",
              "last_scraped                                       0\n",
              "source                                             0\n",
              "                                                ... \n",
              "calculated_host_listings_count                     0\n",
              "calculated_host_listings_count_entire_homes        0\n",
              "calculated_host_listings_count_private_rooms       0\n",
              "calculated_host_listings_count_shared_rooms        0\n",
              "reviews_per_month                               1956\n",
              "Length: 75, dtype: int64"
            ]
          },
          "metadata": {},
          "execution_count": 8
        }
      ]
    },
    {
      "cell_type": "code",
      "source": [
        "df.info()"
      ],
      "metadata": {
        "colab": {
          "base_uri": "https://localhost:8080/"
        },
        "id": "sF9J4x3bLYN5",
        "outputId": "f61e4234-9b81-4734-8b80-5e1368562c85"
      },
      "execution_count": 9,
      "outputs": [
        {
          "output_type": "stream",
          "name": "stdout",
          "text": [
            "<class 'pandas.core.frame.DataFrame'>\n",
            "RangeIndex: 12955 entries, 0 to 12954\n",
            "Data columns (total 75 columns):\n",
            " #   Column                                        Non-Null Count  Dtype  \n",
            "---  ------                                        --------------  -----  \n",
            " 0   id                                            12955 non-null  int64  \n",
            " 1   listing_url                                   12955 non-null  object \n",
            " 2   scrape_id                                     12955 non-null  int64  \n",
            " 3   last_scraped                                  12955 non-null  object \n",
            " 4   source                                        12955 non-null  object \n",
            " 5   name                                          12955 non-null  object \n",
            " 6   description                                   12922 non-null  object \n",
            " 7   neighborhood_overview                         8076 non-null   object \n",
            " 8   picture_url                                   12955 non-null  object \n",
            " 9   host_id                                       12955 non-null  int64  \n",
            " 10  host_url                                      12955 non-null  object \n",
            " 11  host_name                                     12949 non-null  object \n",
            " 12  host_since                                    12948 non-null  object \n",
            " 13  host_location                                 9386 non-null   object \n",
            " 14  host_about                                    6808 non-null   object \n",
            " 15  host_response_time                            11168 non-null  object \n",
            " 16  host_response_rate                            11168 non-null  object \n",
            " 17  host_acceptance_rate                          11807 non-null  object \n",
            " 18  host_is_superhost                             12317 non-null  object \n",
            " 19  host_thumbnail_url                            12948 non-null  object \n",
            " 20  host_picture_url                              12948 non-null  object \n",
            " 21  host_neighbourhood                            6772 non-null   object \n",
            " 22  host_listings_count                           12948 non-null  float64\n",
            " 23  host_total_listings_count                     12948 non-null  float64\n",
            " 24  host_verifications                            12955 non-null  object \n",
            " 25  host_has_profile_pic                          12948 non-null  object \n",
            " 26  host_identity_verified                        12948 non-null  object \n",
            " 27  neighbourhood                                 8076 non-null   object \n",
            " 28  neighbourhood_cleansed                        12955 non-null  object \n",
            " 29  neighbourhood_group_cleansed                  0 non-null      float64\n",
            " 30  latitude                                      12955 non-null  float64\n",
            " 31  longitude                                     12955 non-null  float64\n",
            " 32  property_type                                 12955 non-null  object \n",
            " 33  room_type                                     12955 non-null  object \n",
            " 34  accommodates                                  12955 non-null  int64  \n",
            " 35  bathrooms                                     0 non-null      float64\n",
            " 36  bathrooms_text                                12949 non-null  object \n",
            " 37  bedrooms                                      11456 non-null  float64\n",
            " 38  beds                                          12841 non-null  float64\n",
            " 39  amenities                                     12955 non-null  object \n",
            " 40  price                                         12955 non-null  object \n",
            " 41  minimum_nights                                12955 non-null  int64  \n",
            " 42  maximum_nights                                12955 non-null  int64  \n",
            " 43  minimum_minimum_nights                        12955 non-null  int64  \n",
            " 44  maximum_minimum_nights                        12955 non-null  int64  \n",
            " 45  minimum_maximum_nights                        12955 non-null  int64  \n",
            " 46  maximum_maximum_nights                        12955 non-null  int64  \n",
            " 47  minimum_nights_avg_ntm                        12955 non-null  float64\n",
            " 48  maximum_nights_avg_ntm                        12955 non-null  float64\n",
            " 49  calendar_updated                              0 non-null      float64\n",
            " 50  has_availability                              12955 non-null  object \n",
            " 51  availability_30                               12955 non-null  int64  \n",
            " 52  availability_60                               12955 non-null  int64  \n",
            " 53  availability_90                               12955 non-null  int64  \n",
            " 54  availability_365                              12955 non-null  int64  \n",
            " 55  calendar_last_scraped                         12955 non-null  object \n",
            " 56  number_of_reviews                             12955 non-null  int64  \n",
            " 57  number_of_reviews_ltm                         12955 non-null  int64  \n",
            " 58  number_of_reviews_l30d                        12955 non-null  int64  \n",
            " 59  first_review                                  10999 non-null  object \n",
            " 60  last_review                                   10999 non-null  object \n",
            " 61  review_scores_rating                          11002 non-null  float64\n",
            " 62  review_scores_accuracy                        10986 non-null  float64\n",
            " 63  review_scores_cleanliness                     10986 non-null  float64\n",
            " 64  review_scores_checkin                         10985 non-null  float64\n",
            " 65  review_scores_communication                   10985 non-null  float64\n",
            " 66  review_scores_location                        10985 non-null  float64\n",
            " 67  review_scores_value                           10983 non-null  float64\n",
            " 68  license                                       12266 non-null  object \n",
            " 69  instant_bookable                              12955 non-null  object \n",
            " 70  calculated_host_listings_count                12955 non-null  int64  \n",
            " 71  calculated_host_listings_count_entire_homes   12955 non-null  int64  \n",
            " 72  calculated_host_listings_count_private_rooms  12955 non-null  int64  \n",
            " 73  calculated_host_listings_count_shared_rooms   12955 non-null  int64  \n",
            " 74  reviews_per_month                             10999 non-null  float64\n",
            "dtypes: float64(19), int64(21), object(35)\n",
            "memory usage: 7.4+ MB\n"
          ]
        }
      ]
    },
    {
      "cell_type": "code",
      "source": [],
      "metadata": {
        "id": "9i8-HTcSLbIR"
      },
      "execution_count": null,
      "outputs": []
    },
    {
      "cell_type": "code",
      "source": [],
      "metadata": {
        "id": "-PCmhU0DLqbz"
      },
      "execution_count": null,
      "outputs": []
    }
  ]
}